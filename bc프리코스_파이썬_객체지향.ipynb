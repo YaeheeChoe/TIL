{
 "cells": [
  {
   "cell_type": "markdown",
   "metadata": {},
   "source": [
    "# 파이썬의 객체지향"
   ]
  },
  {
   "cell_type": "code",
   "execution_count": 4,
   "metadata": {},
   "outputs": [
    {
     "name": "stdout",
     "output_type": "stream",
     "text": [
      "-----note-----\n",
      "i am note2\n"
     ]
    }
   ],
   "source": [
    "class Note:\n",
    "    def __init__(self,content=None ):\n",
    "        self.content = content\n",
    "    def __str__(self):\n",
    "        return \"-----note-----\"+ \"\\n\"+self.content\n",
    "    def write(self,txt =\"\"):\n",
    "        self.content = txt\n",
    "class Notebook:\n",
    "    def __init__(self):\n",
    "        self.page =0\n",
    "        self.notes = []\n",
    "    def insert(self, note):\n",
    "        if self.page > 300:\n",
    "            return -1\n",
    "        self.page+=1\n",
    "        self.notes.append(note)\n",
    "    def read(self):\n",
    "        for note in self.notes:\n",
    "            print(note)\n",
    "notebook = Notebook()\n",
    "notebook.insert(Note(\"i am note\"))\n",
    "notebook.insert(Note(\"i am note2\"))\n"
   ]
  },
  {
   "cell_type": "markdown",
   "metadata": {},
   "source": [
    "## 캡슐화(private) 연습"
   ]
  },
  {
   "cell_type": "code",
   "execution_count": 10,
   "metadata": {},
   "outputs": [
    {
     "name": "stdout",
     "output_type": "stream",
     "text": [
      "clock\n",
      "shoes\n",
      "None\n"
     ]
    }
   ],
   "source": [
    "class Inventory:\n",
    "    def __init__(self):\n",
    "        self.__items = {\"clock\":100,\"shoes\":200}\n",
    "    def show_inventory(self):\n",
    "        for i in self.__items:\n",
    "            print(i)\n",
    "inven = Inventory()\n",
    "print(inven.show_inventory())"
   ]
  },
  {
   "cell_type": "markdown",
   "metadata": {},
   "source": [
    "### 파이썬의 모든 함수는 일급함수라고??\n",
    "- 파라미터나 리턴값으로 사용이 가능!"
   ]
  },
  {
   "cell_type": "code",
   "execution_count": 22,
   "metadata": {},
   "outputs": [
    {
     "name": "stdout",
     "output_type": "stream",
     "text": [
      "(0.8414709848078965, 0.5403023058681397)\n",
      "(1, 1)\n"
     ]
    }
   ],
   "source": [
    "import math\n",
    "def circle_positioning(angle,r):\n",
    "    return (math.sin(angle) *r,math.cos(angle) * r)\n",
    "def rectangle_positioning(x,y):\n",
    "    return (x,y)\n",
    "\n",
    "l = []\n",
    "l.append(circle_positioning)\n",
    "l.append(rectangle_positioning)\n",
    "\n",
    "for func in l:\n",
    "    print(func(1,1))"
   ]
  },
  {
   "cell_type": "markdown",
   "metadata": {},
   "source": [
    "### inner function"
   ]
  },
  {
   "cell_type": "code",
   "execution_count": 31,
   "metadata": {},
   "outputs": [
    {
     "name": "stdout",
     "output_type": "stream",
     "text": [
      "It returns inner function\n"
     ]
    }
   ],
   "source": [
    "# 요론식으로 함수 커스터마이저로 이용가능\n",
    "# 이걸 closure 라고한다\n",
    "def func(msg):\n",
    "    def inner_func():\n",
    "        print(msg)\n",
    "    return inner_func\n",
    "another = func(\"It returns inner function\")\n",
    "another()"
   ]
  },
  {
   "cell_type": "markdown",
   "metadata": {},
   "source": [
    "### decorator function"
   ]
  },
  {
   "cell_type": "code",
   "execution_count": 36,
   "metadata": {},
   "outputs": [
    {
     "name": "stdout",
     "output_type": "stream",
     "text": [
      "&&&&&&&&&&&&&&&&&&&&&&&&&&&&&&\n",
      "Hello\n",
      "&&&&&&&&&&&&&&&&&&&&&&&&&&&&&&\n"
     ]
    }
   ],
   "source": [
    "def star(func):\n",
    "    def inner(*args,**kwargs):\n",
    "        print(args[1]*30)\n",
    "        func(*args,**kwargs)\n",
    "        print(args[1] * 30)\n",
    "    return inner\n",
    "@star\n",
    "def printer(msg,mark):\n",
    "    print(msg)\n",
    "printer(\"Hello\",\"&\")"
   ]
  }
 ],
 "metadata": {
  "interpreter": {
   "hash": "f3d38ae4c5893d3fb4d1e2577b317ede2f2032a48fb4c4b655c956be2d247ea7"
  },
  "kernelspec": {
   "display_name": "Python 3.8.12 64-bit ('data': conda)",
   "language": "python",
   "name": "python3"
  },
  "language_info": {
   "codemirror_mode": {
    "name": "ipython",
    "version": 3
   },
   "file_extension": ".py",
   "mimetype": "text/x-python",
   "name": "python",
   "nbconvert_exporter": "python",
   "pygments_lexer": "ipython3",
   "version": "3.8.12"
  },
  "orig_nbformat": 4
 },
 "nbformat": 4,
 "nbformat_minor": 2
}
