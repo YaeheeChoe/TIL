{
 "cells": [
  {
   "cell_type": "markdown",
   "metadata": {},
   "source": [
    "사실 csv는 다른도구로 쓰게됭...\n",
    "\n",
    "CSV 파일읽기"
   ]
  },
  {
   "cell_type": "code",
   "execution_count": 10,
   "metadata": {},
   "outputs": [
    {
     "name": "stdout",
     "output_type": "stream",
     "text": [
      "Header :\t ['구분', '총계', '2012년 이전', '2012년', '2013년', '2014년', '2015년', '2016년', '2017년', '2018년', '2019년', '2020년', '2021년']\n",
      "Data 0 :  ['계', '\"77', '032\"', '\"7', '667\"', '\"2', '200\"', '\"3', '491\"', '\"4', '439\"', '\"6', '582\"', '\"8', '129\"', '\"9', '947\"', '\"9', '876\"', '\"11', '961\"', '\"11', '132\"', '\"1', '608\"']\n",
      "Data 1 :  ['종로구', '\"1', '772\"', '813', '0', '0', '210', '150', '1', '261', '85', '9', '200', '43']\n",
      "Data 2 :  ['중 구', '\"2', '333\"', '16', '114', '87', '77', '236', '240', '372', '386', '155', '361', '289']\n",
      "Data 3 :  ['용산구', '\"2', '383\"', '34', '71', '234', '125', '221', '298', '351', '125', '307', '617', '0']\n",
      "Data 4 :  ['성동구', '\"3', '602\"', '448', '125', '212', '105', '339', '310', '874', '390', '262', '461', '76']\n",
      "Data 5 :  ['광진구', '\"2', '588\"', '35', '57', '100', '187', '98', '52', '675', '465', '712', '175', '32']\n",
      "Data 6 :  ['동대문구', '\"2', '497\"', '\"1', '090\"', '146', '60', '29', '111', '233', '136', '197', '209', '223', '63']\n",
      "Data 7 :  ['중랑구', '\"3', '296\"', '302', '24', '253', '88', '141', '161', '162', '173', '1049', '939', '4']\n",
      "Data 8 :  ['성북구', '\"3', '958\"', '83', '78', '170', '230', '323', '594', '460', '867', '714', '251', '188']\n",
      "Data 9 :  ['강북구', '\"2', '462\"', '0', '0', '24', '65', '105', '243', '6', '392', '1000', '588', '39']\n",
      "26\n"
     ]
    }
   ],
   "source": [
    "line_counter = 0\n",
    "data_header = []\n",
    "data_lst = []\n",
    "\n",
    "with open(\"resources\\cctv.csv\",encoding=\"utf-8\") as cctv_data:\n",
    "    while True:\n",
    "        data = cctv_data.readline().strip('\\n')\n",
    "        if not data: break\n",
    "        if line_counter==0:\n",
    "            data_header =data.split(\",\")\n",
    "        else:\n",
    "            data_lst.append(data.split(\",\"))\n",
    "        line_counter +=1\n",
    "print(\"Header :\\t\",data_header)\n",
    "for i in range(10):\n",
    "    print(\"Data\",i,\": \",data_lst[i])\n",
    "print(len(data_lst))"
   ]
  },
  {
   "cell_type": "markdown",
   "metadata": {},
   "source": [
    "CSV 파일 쓰기"
   ]
  },
  {
   "cell_type": "code",
   "execution_count": 17,
   "metadata": {},
   "outputs": [
    {
     "name": "stdout",
     "output_type": "stream",
     "text": [
      "Header : \t ['구분', '총계', '2012년 이전', '2012년', '2013년', '2014년', '2015년', '2016년', '2017년', '2018년', '2019년', '2020년', '2021년\\n']\n",
      "Data :  [['종로구', '\"1', '772\"', '813', '0', '0', '210', '150', '1', '261', '85', '9', '200', '43\\n']]\n",
      "1\n"
     ]
    }
   ],
   "source": [
    "line_counter =0\n",
    "data_header=[]\n",
    "cctv_lst =[]\n",
    "cctv_JongRoo_only_lst = []\n",
    "\n",
    "with open(\"resources\\cctv.csv\",\"r\",encoding=\"utf-8\") as cctv_data:\n",
    "    while 1:\n",
    "        data = cctv_data.readline()\n",
    "        if not data: break\n",
    "        cctv_lst.append(data.split(\",\"))\n",
    "        if cctv_lst[-1][0] ==\"종로구\":\n",
    "            cctv_JongRoo_only_lst.append(cctv_lst[-1])\n",
    "    line_counter +=1\n",
    "data_header = cctv_lst[0]\n",
    "cctv_lst = cctv_lst[1:]\n",
    "print(\"Header : \\t\",data_header)\n",
    "print(\"Data : \",cctv_JongRoo_only_lst)    \n",
    "print(len(cctv_JongRoo_only_lst))\n",
    "with open(\"cctv_jongroo.csv\",\"w\",encoding=\"utf-8\") as jongroo_csv:\n",
    "    for cctv in cctv_JongRoo_only_lst:\n",
    "        jongroo_csv.write(\",\".join(cctv).strip('\\n') + '\\n')"
   ]
  },
  {
   "cell_type": "markdown",
   "metadata": {},
   "source": [
    "정규표현식 regexr.com\n",
    "정규표현식 연습장!"
   ]
  }
 ],
 "metadata": {
  "interpreter": {
   "hash": "f3d38ae4c5893d3fb4d1e2577b317ede2f2032a48fb4c4b655c956be2d247ea7"
  },
  "kernelspec": {
   "display_name": "Python 3.8.12 64-bit ('data': conda)",
   "language": "python",
   "name": "python3"
  },
  "language_info": {
   "codemirror_mode": {
    "name": "ipython",
    "version": 3
   },
   "file_extension": ".py",
   "mimetype": "text/x-python",
   "name": "python",
   "nbconvert_exporter": "python",
   "pygments_lexer": "ipython3",
   "version": "3.8.12"
  },
  "orig_nbformat": 4
 },
 "nbformat": 4,
 "nbformat_minor": 2
}
