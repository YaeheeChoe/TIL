{
 "cells": [
  {
   "cell_type": "code",
   "execution_count": null,
   "metadata": {},
   "outputs": [],
   "source": [
    "class Solution:\n",
    "    def mergeTrees(self, tree1: TreeNode, tree2: TreeNode) -> TreeNode:\n",
    "        if tree1 and tree2:\n",
    "            node = TreeNode(tree1.val+tree2.val)\n",
    "            node.left = self.mergeTrees(tree1.left,tree2.left)\n",
    "            node.right = self.mergeTrees(tree1.right,tree2.right)\n",
    "            return node\n",
    "        else:\n",
    "            return tree1 or tree2"
   ]
  }
 ],
 "metadata": {
  "language_info": {
   "name": "python"
  },
  "orig_nbformat": 4
 },
 "nbformat": 4,
 "nbformat_minor": 2
}
