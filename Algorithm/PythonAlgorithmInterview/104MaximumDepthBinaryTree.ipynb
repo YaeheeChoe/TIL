{
 "cells": [
  {
   "cell_type": "markdown",
   "metadata": {},
   "source": [
    "예제코드"
   ]
  },
  {
   "cell_type": "code",
   "execution_count": 1,
   "metadata": {},
   "outputs": [],
   "source": [
    "# Definition for a binary tree node.\n",
    "class TreeNode:\n",
    "     def __init__(self, val=0, left=None, right=None):\n",
    "         self.val = val\n",
    "         self.left = left\n",
    "         self.right = right"
   ]
  },
  {
   "cell_type": "code",
   "execution_count": null,
   "metadata": {},
   "outputs": [],
   "source": [
    "def maxDepth(self,root:TreeNode):\n",
    "    if root is None:\n",
    "        return 0\n",
    "    q = collections.deque([root])\n",
    "    depth =0\n",
    "    while q:\n",
    "        depth+=1\n",
    "        for _ in range(len(q)):\n",
    "            cur= q.popleft()\n",
    "            q.append(cur.left)\n",
    "            q.append(cur.right)\n",
    "    return depth"
   ]
  },
  {
   "cell_type": "markdown",
   "metadata": {},
   "source": [
    "리트코드 커뮤니티를 보고 재귀로도 풀어보았다. depth구하는데 굳이 queue에 Node를 넣다 뻇다 할 필요가 없다고 생각해서, 이 코드가 더 맘에든다."
   ]
  },
  {
   "cell_type": "code",
   "execution_count": null,
   "metadata": {},
   "outputs": [],
   "source": [
    "\n",
    "class Solution:\n",
    "    def maxDepth(self, root: TreeNode) -> int:\n",
    "        if root is None:\n",
    "            return 0\n",
    "        return max(1+self.maxDepth(root.left),1+self.maxDepth(root.right))"
   ]
  }
 ],
 "metadata": {
  "interpreter": {
   "hash": "6d95904c002427d9b163d824f36e04c3f596305292b1f71ff2f15b4763d87394"
  },
  "kernelspec": {
   "display_name": "Python 3.8.5 64-bit ('base': conda)",
   "language": "python",
   "name": "python3"
  },
  "language_info": {
   "codemirror_mode": {
    "name": "ipython",
    "version": 3
   },
   "file_extension": ".py",
   "mimetype": "text/x-python",
   "name": "python",
   "nbconvert_exporter": "python",
   "pygments_lexer": "ipython3",
   "version": "3.8.5"
  },
  "orig_nbformat": 4
 },
 "nbformat": 4,
 "nbformat_minor": 2
}
