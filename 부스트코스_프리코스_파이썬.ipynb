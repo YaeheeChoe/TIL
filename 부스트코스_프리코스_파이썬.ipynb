{
 "cells": [
  {
   "cell_type": "code",
   "execution_count": null,
   "metadata": {},
   "outputs": [],
   "source": [
    "class Note(object):\n",
    "    def __init__(self,content=None ):\n",
    "        self.content = content\n",
    "    def __str__(self):\n",
    "        return self.content\n",
    "    def write(self,txt =\"\"):\n",
    "        self.content = txt\n",
    "class Notebook(object):\n",
    "    def __init__(self):\n",
    "        self.page =0\n",
    "        self.notes = []\n",
    "    def insert(self, note):\n",
    "        if self.page > 300:\n",
    "            return -1\n",
    "        self.page+=1\n",
    "        self.notes.append(note)\n",
    "    def read(self):\n",
    "        for note in self.notes:\n",
    "            print(note)\n",
    "notebook = Notebook()\n",
    "notebook.insert(Note(\"i am note\"))\n",
    "notebook.insert(Note(\"i am note2\"))\n",
    "notebook.read()"
   ]
  }
 ],
 "metadata": {
  "language_info": {
   "name": "python"
  },
  "orig_nbformat": 4
 },
 "nbformat": 4,
 "nbformat_minor": 2
}
