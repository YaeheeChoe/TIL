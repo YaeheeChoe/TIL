{
 "cells": [
  {
   "cell_type": "code",
   "execution_count": 2,
   "metadata": {},
   "outputs": [
    {
     "name": "stdout",
     "output_type": "stream",
     "text": [
      "1. \"Be yourself; no base imitator of another, but your best self. There is something which you can do better than another.\"\n",
      "\n",
      "- Ralph Waldo Emerson, 'Self-Reliance'.\n",
      "\n",
      "2. \"Whoso would be a man, must be a nonconformist.\"\n",
      "\n",
      "- Ralph Waldo Emerson, 'Self-Reliance'.\n",
      "\n",
      "3. \"The only person you are destined to become is the person you decide to be.\"\n",
      "\n",
      "\n",
      "- Ralph Waldo Emerson, 'Self-Reliance'.\n",
      "\n",
      "4. \"He cannot be happy and strong until he too lives with nature in the present, above time.\"\n",
      "\n",
      "- Ralph Waldo Emerson, 'Self-Reliance'.\n",
      "\n",
      "5. \"A man is to carry himself in the presence of all opposition, as if every thing were titular and ephemeral but he. I am ashamed to think how easily we capitulate to badges and names, to large societies and dead institutions\"\n",
      "\n",
      "- Ralph Waldo Emerson, 'Self-Reliance'.\n",
      "\n",
      "6. \"There is a time in every manâ€™s education when he arrives at the conviction that envy is ignorance; that imitation is suicide.\"\n",
      "\n",
      "\n",
      "- Ralph Waldo Emerson, 'Self-Reliance'.\n",
      "\n",
      "7. \"My life is for itself and not for a spectacle.\"\n",
      "\n",
      "- Ralph Waldo Emerson, 'Self-Reliance'.\n",
      "\n",
      "8. \"If we live truly, we shall see truly.\"\n",
      "\n",
      "- Ralph Waldo Emerson.\n"
     ]
    }
   ],
   "source": [
    "f= open(\"self_reliance_quotes.txt\",\"r\")\n",
    "contents = f.read()\n",
    "print(contents)\n",
    "f.close()"
   ]
  },
  {
   "cell_type": "code",
   "execution_count": null,
   "metadata": {},
   "outputs": [],
   "source": [
    "with open(\"self_reliance_quotes.txt\",\"r\") as my_txt:\n",
    "    contents = my_txt.read()\n",
    "    print(type(contents),'\\n',contents)"
   ]
  },
  {
   "cell_type": "markdown",
   "metadata": {},
   "source": [
    "## 간단한 단어 통계 프로그램"
   ]
  },
  {
   "cell_type": "code",
   "execution_count": 5,
   "metadata": {},
   "outputs": [
    {
     "name": "stdout",
     "output_type": "stream",
     "text": [
      "Total number of Chacters :  1122\n",
      "Total number of words :  175\n",
      "Total number of lines :  30\n"
     ]
    }
   ],
   "source": [
    "with open(\"self_reliance_quotes.txt\",\"r\") as my_txt:\n",
    "    contents =my_txt.read()\n",
    "    word_list = contents.split(\" \")\n",
    "    line_list = contents.split(\"\\n\")\n",
    "print(\"Total number of Chacters : \", len(contents))\n",
    "print(\"Total number of words : \", len(word_list))\n",
    "print(\"Total number of lines : \", len(line_list))"
   ]
  },
  {
   "cell_type": "markdown",
   "metadata": {},
   "source": [
    "## OS Module"
   ]
  },
  {
   "cell_type": "code",
   "execution_count": 7,
   "metadata": {},
   "outputs": [],
   "source": [
    "import os\n",
    "os.mkdir(\"log\")"
   ]
  },
  {
   "cell_type": "code",
   "execution_count": null,
   "metadata": {},
   "outputs": [],
   "source": [
    "os.path.exists(\"log\")"
   ]
  },
  {
   "cell_type": "code",
   "execution_count": null,
   "metadata": {},
   "outputs": [],
   "source": [
    "os.path.isfile(\"file.ipynb\")"
   ]
  },
  {
   "cell_type": "code",
   "execution_count": 5,
   "metadata": {},
   "outputs": [
    {
     "data": {
      "text/plain": [
       "'abc\\\\my_file.ipynb'"
      ]
     },
     "execution_count": 5,
     "metadata": {},
     "output_type": "execute_result"
    }
   ],
   "source": [
    "import shutil\n",
    "source =\"file.ipynb\"\n",
    "dest = os.path.join(\"abc\",\"my_file.ipynb\")\n",
    "shutil.copy(source,dest)"
   ]
  },
  {
   "cell_type": "code",
   "execution_count": 15,
   "metadata": {},
   "outputs": [
    {
     "data": {
      "text/plain": [
       "WindowsPath('c:/Users/Yaehee/Desktop/data_training')"
      ]
     },
     "execution_count": 15,
     "metadata": {},
     "output_type": "execute_result"
    }
   ],
   "source": [
    "import pathlib\n",
    "pathlib.Path.cwd()"
   ]
  },
  {
   "cell_type": "code",
   "execution_count": 1,
   "metadata": {},
   "outputs": [],
   "source": [
    "import os\n",
    "if not os.path.exists(\"log\"):\n",
    "    os.mkdir(\"log\")\n",
    "TARGET_FILE_PATH = os.path.join(\"log\",\"count_log.txt\")\n",
    "if not os.path.exists(TARGET_FILE_PATH):\n",
    "    f = open(\"log/count_log.txt\",\"w\",encoding=\"utf8\")\n",
    "    f.write(\"기록이 시작됩니다\\n\")\n",
    "    f.close()"
   ]
  },
  {
   "cell_type": "markdown",
   "metadata": {},
   "source": [
    "pickle\n",
    "bulit-in 객체\n",
    "data나 오브젝트 실행 중에 정보 저장, 불러와서 사용가능"
   ]
  },
  {
   "cell_type": "code",
   "execution_count": 2,
   "metadata": {},
   "outputs": [],
   "source": [
    "import pickle\n",
    "f= open('list.pickle','wb')\n",
    "test =[1,2,3,4,5]\n",
    "pickle.dump(test,f)\n",
    "f.close()"
   ]
  },
  {
   "cell_type": "code",
   "execution_count": 3,
   "metadata": {},
   "outputs": [
    {
     "name": "stdout",
     "output_type": "stream",
     "text": [
      "[1, 2, 3, 4, 5]\n"
     ]
    }
   ],
   "source": [
    "del test\n",
    "f= open(\"list.pickle\",\"rb\")\n",
    "test_pickle =pickle.load(f)\n",
    "print(test_pickle)\n",
    "f.close()"
   ]
  },
  {
   "cell_type": "code",
   "execution_count": 4,
   "metadata": {},
   "outputs": [
    {
     "name": "stderr",
     "output_type": "stream",
     "text": [
      "WARNING:root:조심해!\n",
      "ERROR:root:에러났어!\n",
      "CRITICAL:root:망했다...\n"
     ]
    }
   ],
   "source": [
    "import logging\n",
    "\n",
    "logging.debug(\"틀렸잖아!\")\n",
    "logging.info(\"확인해\")\n",
    "logging.warning(\"조심해!\")\n",
    "logging.error(\"에러났어!\")\n",
    "logging.critical(\"망했다...\")"
   ]
  },
  {
   "cell_type": "code",
   "execution_count": 2,
   "metadata": {},
   "outputs": [
    {
     "ename": "ValueError",
     "evalue": "invalid option string ' A_value': must start with a character '-'",
     "output_type": "error",
     "traceback": [
      "\u001b[1;31m---------------------------------------------------------------------------\u001b[0m",
      "\u001b[1;31mValueError\u001b[0m                                Traceback (most recent call last)",
      "\u001b[1;32m~\\AppData\\Local\\Temp/ipykernel_3872/2291700506.py\u001b[0m in \u001b[0;36m<module>\u001b[1;34m\u001b[0m\n\u001b[0;32m      1\u001b[0m \u001b[1;32mimport\u001b[0m  \u001b[0margparse\u001b[0m\u001b[1;33m\u001b[0m\u001b[1;33m\u001b[0m\u001b[0m\n\u001b[0;32m      2\u001b[0m \u001b[0mparser\u001b[0m \u001b[1;33m=\u001b[0m \u001b[0margparse\u001b[0m\u001b[1;33m.\u001b[0m\u001b[0mArgumentParser\u001b[0m\u001b[1;33m(\u001b[0m\u001b[0mdescription\u001b[0m\u001b[1;33m=\u001b[0m\u001b[1;34m'Sum two integers'\u001b[0m\u001b[1;33m)\u001b[0m\u001b[1;33m\u001b[0m\u001b[1;33m\u001b[0m\u001b[0m\n\u001b[1;32m----> 3\u001b[1;33m \u001b[0mparser\u001b[0m\u001b[1;33m.\u001b[0m\u001b[0madd_argument\u001b[0m\u001b[1;33m(\u001b[0m\u001b[1;34m'-a'\u001b[0m\u001b[1;33m,\u001b[0m\u001b[1;34m'--a_value'\u001b[0m\u001b[1;33m,\u001b[0m\u001b[1;34m' A_value'\u001b[0m\u001b[1;33m,\u001b[0m\u001b[0mhelp\u001b[0m\u001b[1;33m=\u001b[0m\u001b[1;34m'A integers'\u001b[0m\u001b[1;33m,\u001b[0m\u001b[0mtype\u001b[0m\u001b[1;33m=\u001b[0m\u001b[0mint\u001b[0m\u001b[1;33m)\u001b[0m\u001b[1;33m\u001b[0m\u001b[1;33m\u001b[0m\u001b[0m\n\u001b[0m\u001b[0;32m      4\u001b[0m \u001b[0mparser\u001b[0m\u001b[1;33m.\u001b[0m\u001b[0madd_argument\u001b[0m\u001b[1;33m(\u001b[0m\u001b[1;34m'-b'\u001b[0m\u001b[1;33m,\u001b[0m\u001b[1;34m'--b_value'\u001b[0m\u001b[1;33m,\u001b[0m\u001b[1;34m' B_value'\u001b[0m\u001b[1;33m,\u001b[0m\u001b[0mhelp\u001b[0m\u001b[1;33m=\u001b[0m\u001b[1;34m'B integers'\u001b[0m\u001b[1;33m,\u001b[0m\u001b[0mtype\u001b[0m\u001b[1;33m=\u001b[0m\u001b[0mint\u001b[0m\u001b[1;33m)\u001b[0m\u001b[1;33m\u001b[0m\u001b[1;33m\u001b[0m\u001b[0m\n\u001b[0;32m      5\u001b[0m \u001b[1;33m\u001b[0m\u001b[0m\n",
      "\u001b[1;32m~\\anaconda3\\envs\\data\\lib\\argparse.py\u001b[0m in \u001b[0;36madd_argument\u001b[1;34m(self, *args, **kwargs)\u001b[0m\n\u001b[0;32m   1352\u001b[0m         \u001b[1;31m# otherwise, we're adding an optional argument\u001b[0m\u001b[1;33m\u001b[0m\u001b[1;33m\u001b[0m\u001b[1;33m\u001b[0m\u001b[0m\n\u001b[0;32m   1353\u001b[0m         \u001b[1;32melse\u001b[0m\u001b[1;33m:\u001b[0m\u001b[1;33m\u001b[0m\u001b[1;33m\u001b[0m\u001b[0m\n\u001b[1;32m-> 1354\u001b[1;33m             \u001b[0mkwargs\u001b[0m \u001b[1;33m=\u001b[0m \u001b[0mself\u001b[0m\u001b[1;33m.\u001b[0m\u001b[0m_get_optional_kwargs\u001b[0m\u001b[1;33m(\u001b[0m\u001b[1;33m*\u001b[0m\u001b[0margs\u001b[0m\u001b[1;33m,\u001b[0m \u001b[1;33m**\u001b[0m\u001b[0mkwargs\u001b[0m\u001b[1;33m)\u001b[0m\u001b[1;33m\u001b[0m\u001b[1;33m\u001b[0m\u001b[0m\n\u001b[0m\u001b[0;32m   1355\u001b[0m \u001b[1;33m\u001b[0m\u001b[0m\n\u001b[0;32m   1356\u001b[0m         \u001b[1;31m# if no default was supplied, use the parser-level default\u001b[0m\u001b[1;33m\u001b[0m\u001b[1;33m\u001b[0m\u001b[1;33m\u001b[0m\u001b[0m\n",
      "\u001b[1;32m~\\anaconda3\\envs\\data\\lib\\argparse.py\u001b[0m in \u001b[0;36m_get_optional_kwargs\u001b[1;34m(self, *args, **kwargs)\u001b[0m\n\u001b[0;32m   1487\u001b[0m                 msg = _('invalid option string %(option)r: '\n\u001b[0;32m   1488\u001b[0m                         'must start with a character %(prefix_chars)r')\n\u001b[1;32m-> 1489\u001b[1;33m                 \u001b[1;32mraise\u001b[0m \u001b[0mValueError\u001b[0m\u001b[1;33m(\u001b[0m\u001b[0mmsg\u001b[0m \u001b[1;33m%\u001b[0m \u001b[0margs\u001b[0m\u001b[1;33m)\u001b[0m\u001b[1;33m\u001b[0m\u001b[1;33m\u001b[0m\u001b[0m\n\u001b[0m\u001b[0;32m   1490\u001b[0m \u001b[1;33m\u001b[0m\u001b[0m\n\u001b[0;32m   1491\u001b[0m             \u001b[1;31m# strings starting with two prefix characters are long options\u001b[0m\u001b[1;33m\u001b[0m\u001b[1;33m\u001b[0m\u001b[1;33m\u001b[0m\u001b[0m\n",
      "\u001b[1;31mValueError\u001b[0m: invalid option string ' A_value': must start with a character '-'"
     ]
    }
   ],
   "source": [
    "import  argparse\n",
    "parser = argparse.ArgumentParser(description='Sum two integers')\n",
    "parser.add_argument('-a','--a_value',dest='A_value',help='A integers',type=int)\n",
    "parser.add_argument('-b','--b_value',dest='B_value',help='B integers',type=int)\n",
    "\n",
    "args = parser.parse_args()\n",
    "print(args)\n",
    "print(args.b)\n",
    "print(args.a + args.b)"
   ]
  }
 ],
 "metadata": {
  "interpreter": {
   "hash": "f3d38ae4c5893d3fb4d1e2577b317ede2f2032a48fb4c4b655c956be2d247ea7"
  },
  "kernelspec": {
   "display_name": "Python 3.8.12 64-bit ('data': conda)",
   "language": "python",
   "name": "python3"
  },
  "language_info": {
   "codemirror_mode": {
    "name": "ipython",
    "version": 3
   },
   "file_extension": ".py",
   "mimetype": "text/x-python",
   "name": "python",
   "nbconvert_exporter": "python",
   "pygments_lexer": "ipython3",
   "version": "3.8.12"
  },
  "orig_nbformat": 4
 },
 "nbformat": 4,
 "nbformat_minor": 2
}
