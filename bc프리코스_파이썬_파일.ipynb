{
 "cells": [
  {
   "cell_type": "code",
   "execution_count": 2,
   "metadata": {},
   "outputs": [
    {
     "name": "stdout",
     "output_type": "stream",
     "text": [
      "1. \"Be yourself; no base imitator of another, but your best self. There is something which you can do better than another.\"\n",
      "\n",
      "- Ralph Waldo Emerson, 'Self-Reliance'.\n",
      "\n",
      "2. \"Whoso would be a man, must be a nonconformist.\"\n",
      "\n",
      "- Ralph Waldo Emerson, 'Self-Reliance'.\n",
      "\n",
      "3. \"The only person you are destined to become is the person you decide to be.\"\n",
      "\n",
      "\n",
      "- Ralph Waldo Emerson, 'Self-Reliance'.\n",
      "\n",
      "4. \"He cannot be happy and strong until he too lives with nature in the present, above time.\"\n",
      "\n",
      "- Ralph Waldo Emerson, 'Self-Reliance'.\n",
      "\n",
      "5. \"A man is to carry himself in the presence of all opposition, as if every thing were titular and ephemeral but he. I am ashamed to think how easily we capitulate to badges and names, to large societies and dead institutions\"\n",
      "\n",
      "- Ralph Waldo Emerson, 'Self-Reliance'.\n",
      "\n",
      "6. \"There is a time in every manâ€™s education when he arrives at the conviction that envy is ignorance; that imitation is suicide.\"\n",
      "\n",
      "\n",
      "- Ralph Waldo Emerson, 'Self-Reliance'.\n",
      "\n",
      "7. \"My life is for itself and not for a spectacle.\"\n",
      "\n",
      "- Ralph Waldo Emerson, 'Self-Reliance'.\n",
      "\n",
      "8. \"If we live truly, we shall see truly.\"\n",
      "\n",
      "- Ralph Waldo Emerson.\n"
     ]
    }
   ],
   "source": [
    "f= open(\"self_reliance_quotes.txt\",\"r\")\n",
    "contents = f.read()\n",
    "print(contents)\n",
    "f.close()"
   ]
  },
  {
   "cell_type": "code",
   "execution_count": null,
   "metadata": {},
   "outputs": [],
   "source": [
    "with open(\"self_reliance_quotes.txt\",\"r\") as my_txt:\n",
    "    contents = my_txt.read()\n",
    "    print(type(contents),'\\n',contents)"
   ]
  },
  {
   "cell_type": "markdown",
   "metadata": {},
   "source": [
    "## 간단한 단어 통계 프로그램"
   ]
  },
  {
   "cell_type": "code",
   "execution_count": 5,
   "metadata": {},
   "outputs": [
    {
     "name": "stdout",
     "output_type": "stream",
     "text": [
      "Total number of Chacters :  1122\n",
      "Total number of words :  175\n",
      "Total number of lines :  30\n"
     ]
    }
   ],
   "source": [
    "with open(\"self_reliance_quotes.txt\",\"r\") as my_txt:\n",
    "    contents =my_txt.read()\n",
    "    word_list = contents.split(\" \")\n",
    "    line_list = contents.split(\"\\n\")\n",
    "print(\"Total number of Chacters : \", len(contents))\n",
    "print(\"Total number of words : \", len(word_list))\n",
    "print(\"Total number of lines : \", len(line_list))"
   ]
  },
  {
   "cell_type": "markdown",
   "metadata": {},
   "source": [
    "## OS Module"
   ]
  },
  {
   "cell_type": "code",
   "execution_count": 7,
   "metadata": {},
   "outputs": [],
   "source": [
    "import os\n",
    "os.mkdir(\"log\")"
   ]
  },
  {
   "cell_type": "code",
   "execution_count": null,
   "metadata": {},
   "outputs": [],
   "source": [
    "os.path.exists(\"log\")"
   ]
  },
  {
   "cell_type": "code",
   "execution_count": null,
   "metadata": {},
   "outputs": [],
   "source": [
    "os.path.isfile(\"file.ipynb\")"
   ]
  },
  {
   "cell_type": "code",
   "execution_count": null,
   "metadata": {},
   "outputs": [],
   "source": [
    "import shutil\n",
    "source =\"file.ipynb\"\n",
    "dest = os.path.join(\"abc\",\"file.ipynb\")\n",
    "shutil.copy(source,dest)"
   ]
  }
 ],
 "metadata": {
  "interpreter": {
   "hash": "f3d38ae4c5893d3fb4d1e2577b317ede2f2032a48fb4c4b655c956be2d247ea7"
  },
  "kernelspec": {
   "display_name": "Python 3.8.12 64-bit ('data': conda)",
   "language": "python",
   "name": "python3"
  },
  "language_info": {
   "codemirror_mode": {
    "name": "ipython",
    "version": 3
   },
   "file_extension": ".py",
   "mimetype": "text/x-python",
   "name": "python",
   "nbconvert_exporter": "python",
   "pygments_lexer": "ipython3",
   "version": "3.8.12"
  },
  "orig_nbformat": 4
 },
 "nbformat": 4,
 "nbformat_minor": 2
}
