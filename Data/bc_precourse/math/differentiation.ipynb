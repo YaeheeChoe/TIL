{
 "cells": [
  {
   "cell_type": "code",
   "execution_count": null,
   "metadata": {},
   "outputs": [],
   "source": [
    "import \tsympy as sym\n",
    "from sympy.abc import x\n",
    "\n",
    "sym.diff(sym.poly(x**2+2*x+3),x)"
   ]
  }
 ],
 "metadata": {
  "interpreter": {
   "hash": "5a035f078244322ea001a0183f5aaa016cb1c180dfb3a169a98b7fc7fdf9e49e"
  },
  "kernelspec": {
   "display_name": "Python 3.7.10 64-bit ('aip': conda)",
   "language": "python",
   "name": "python3"
  },
  "language_info": {
   "name": "python",
   "version": "3.7.10"
  },
  "orig_nbformat": 4
 },
 "nbformat": 4,
 "nbformat_minor": 2
}
